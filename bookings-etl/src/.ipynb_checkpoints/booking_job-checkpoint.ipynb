{
 "cells": [
  {
   "cell_type": "code",
   "execution_count": 1,
   "id": "initial_id",
   "metadata": {},
   "outputs": [],
   "source": [
    "import findspark\n",
    "findspark.init()"
   ]
  },
  {
   "cell_type": "code",
   "execution_count": 34,
   "id": "318e3919-4ac5-4793-9c49-6720add141f3",
   "metadata": {},
   "outputs": [],
   "source": [
    "WRITE_LOCATION = './data_destination'\n",
    "READ_LOCATION = './data_sources/hotels.csv'"
   ]
  },
  {
   "cell_type": "code",
   "execution_count": 3,
   "id": "b2754843-d11c-4839-af91-b43da11baef9",
   "metadata": {},
   "outputs": [],
   "source": [
    "from pyspark import SparkContext, SparkConf\n",
    "from pyspark.sql import SparkSession\n",
    "from pyspark.sql import functions as F"
   ]
  },
  {
   "cell_type": "code",
   "execution_count": 6,
   "id": "a83e0415-5580-4d33-88f2-bbe4b164671a",
   "metadata": {},
   "outputs": [],
   "source": [
    "conf = SparkConf().setAppName('travel_operator_booking').setMaster('local')\n",
    "sc = SparkContext(conf=conf)\n",
    "spark = SparkSession(sc)"
   ]
  },
  {
   "cell_type": "code",
   "execution_count": 7,
   "id": "0ab4ba92-e9cc-4269-bde5-0f3db950dfd5",
   "metadata": {},
   "outputs": [
    {
     "data": {
      "text/plain": [
       "DataFrame[key: string, value: string]"
      ]
     },
     "execution_count": 7,
     "metadata": {},
     "output_type": "execute_result"
    }
   ],
   "source": [
    "spark.sql(\"set spark.sql.legacy.timeParserPolicy=LEGACY\")"
   ]
  },
  {
   "cell_type": "code",
   "execution_count": 35,
   "id": "efef25e1-870b-4668-b5ed-aa9712c47a7b",
   "metadata": {},
   "outputs": [],
   "source": [
    "hotels_data=spark.read.format('csv').option('header', True).load(READ_LOCATION)"
   ]
  },
  {
   "cell_type": "code",
   "execution_count": 36,
   "id": "43e8049a-c4ce-4880-8fdf-8154015abdea",
   "metadata": {},
   "outputs": [],
   "source": [
    "touroperator_ms_data_df = hotels_data.where('market_segment = \"Offline TA/TO\"')"
   ]
  },
  {
   "cell_type": "code",
   "execution_count": 37,
   "id": "effc079c-de9b-4093-8ca7-c30e51ff816d",
   "metadata": {},
   "outputs": [
    {
     "data": {
      "text/plain": [
       "24219"
      ]
     },
     "execution_count": 37,
     "metadata": {},
     "output_type": "execute_result"
    }
   ],
   "source": [
    "touroperator_ms_data_df.count()"
   ]
  },
  {
   "cell_type": "code",
   "execution_count": 38,
   "id": "9a810f0f-e202-4962-9b14-852422e65fc5",
   "metadata": {},
   "outputs": [],
   "source": [
    "touroperator_ms_arrival_df=touroperator_ms_data_df.withColumn('arrival_date',F.to_date(F.concat_ws(\"-\", F.col(\"arrival_date_year\"), F.col(\"arrival_date_month\"),\n",
    "                                 F.col(\"arrival_date_day_of_month\")), \"yyyy-MMM-dd\"))"
   ]
  },
  {
   "cell_type": "code",
   "execution_count": 40,
   "id": "cd606ede-9dcd-4178-b134-58fed415eb8a",
   "metadata": {},
   "outputs": [],
   "source": [
    "touroperator_ms_departure_df=touroperator_ms_arrival_df.withColumn('departure_date',F.expr(\"date_add(arrival_date, cast(stays_in_weekend_nights as int)+cast(stays_in_week_nights as int))\"))"
   ]
  },
  {
   "cell_type": "code",
   "execution_count": 42,
   "id": "a3fe5783-146f-470a-9bc5-dbc65f0d43e8",
   "metadata": {},
   "outputs": [],
   "source": [
    "final_data_with_familybf_df=touroperator_ms_departure_df.withColumn('no_of_children', F.col('children') + F.col('babies')).withColumn('with_family_breakfast', F.when(F.expr('no_of_children > 0'), F.lit('YES')).otherwise(F.lit('NO'))).drop('no_of_children')"
   ]
  },
  {
   "cell_type": "code",
   "execution_count": 44,
   "id": "dba8920e-081f-4a16-8aed-afa2ea1d1801",
   "metadata": {},
   "outputs": [],
   "source": [
    "final_data_with_familybf_df.write.mode('overwrite').parquet(WRITE_LOCATION)"
   ]
  },
  {
   "cell_type": "code",
   "execution_count": null,
   "id": "d2ba85ee-35e9-4ad7-999b-03769a146886",
   "metadata": {},
   "outputs": [],
   "source": []
  }
 ],
 "metadata": {
  "kernelspec": {
   "display_name": "Python 3 (ipykernel)",
   "language": "python",
   "name": "python3"
  },
  "language_info": {
   "codemirror_mode": {
    "name": "ipython",
    "version": 3
   },
   "file_extension": ".py",
   "mimetype": "text/x-python",
   "name": "python",
   "nbconvert_exporter": "python",
   "pygments_lexer": "ipython3",
   "version": "3.11.4"
  }
 },
 "nbformat": 4,
 "nbformat_minor": 5
}

{
 "cells": [
  {
   "cell_type": "code",
   "execution_count": 1,
   "id": "initial_id",
   "metadata": {},
   "outputs": [],
   "source": [
    "import findspark\n",
    "findspark.init()"
   ]
  },
  {
   "cell_type": "code",
   "execution_count": 2,
   "id": "318e3919-4ac5-4793-9c49-6720add141f3",
   "metadata": {},
   "outputs": [],
   "source": [
    "WRITE_LOCATION = './data_destination'\n",
    "READ_LOCATION = './data_sources/hotels.csv'"
   ]
  },
  {
   "cell_type": "code",
   "execution_count": 3,
   "id": "b2754843-d11c-4839-af91-b43da11baef9",
   "metadata": {},
   "outputs": [],
   "source": [
    "from pyspark import SparkContext, SparkConf\n",
    "from pyspark.sql import SparkSession\n",
    "from pyspark.sql import functions as F"
   ]
  },
  {
   "cell_type": "code",
   "execution_count": 4,
   "id": "a83e0415-5580-4d33-88f2-bbe4b164671a",
   "metadata": {},
   "outputs": [],
   "source": [
    "conf = SparkConf().setAppName('travel_operator_booking').setMaster('local')\n",
    "sc = SparkContext(conf=conf)\n",
    "spark = SparkSession(sc)"
   ]
  },
  {
   "cell_type": "code",
   "execution_count": 5,
   "id": "eb4453ac-d651-466d-9d35-ef89243faf5a",
   "metadata": {},
   "outputs": [],
   "source": [
    "%run ./hotel_functions.py"
   ]
  },
  {
   "cell_type": "code",
   "execution_count": 6,
   "id": "0ab4ba92-e9cc-4269-bde5-0f3db950dfd5",
   "metadata": {},
   "outputs": [
    {
     "data": {
      "text/plain": [
       "DataFrame[key: string, value: string]"
      ]
     },
     "execution_count": 6,
     "metadata": {},
     "output_type": "execute_result"
    }
   ],
   "source": [
    "spark.sql(\"set spark.sql.legacy.timeParserPolicy=LEGACY\")"
   ]
  },
  {
   "cell_type": "code",
   "execution_count": 7,
   "id": "efef25e1-870b-4668-b5ed-aa9712c47a7b",
   "metadata": {},
   "outputs": [],
   "source": [
    "hotels_data=read_csv_file(spark,READ_LOCATION,'true')"
   ]
  },
  {
   "cell_type": "code",
   "execution_count": 8,
   "id": "43e8049a-c4ce-4880-8fdf-8154015abdea",
   "metadata": {},
   "outputs": [],
   "source": [
    "touroperator_ms_data_df = hotels_data.where('market_segment = \"Offline TA/TO\"')"
   ]
  },
  {
   "cell_type": "code",
   "execution_count": 9,
   "id": "effc079c-de9b-4093-8ca7-c30e51ff816d",
   "metadata": {},
   "outputs": [
    {
     "data": {
      "text/plain": [
       "24219"
      ]
     },
     "execution_count": 9,
     "metadata": {},
     "output_type": "execute_result"
    }
   ],
   "source": [
    "touroperator_ms_data_df.count()"
   ]
  },
  {
   "cell_type": "code",
   "execution_count": 10,
   "id": "9a810f0f-e202-4962-9b14-852422e65fc5",
   "metadata": {},
   "outputs": [],
   "source": [
    "touroperator_ms_arrival_df= arrival_date_calculate(touroperator_ms_data_df)"
   ]
  },
  {
   "cell_type": "code",
   "execution_count": 11,
   "id": "cd606ede-9dcd-4178-b134-58fed415eb8a",
   "metadata": {},
   "outputs": [],
   "source": [
    "touroperator_ms_departure_df= departure_date_calculate(touroperator_ms_arrival_df)"
   ]
  },
  {
   "cell_type": "code",
   "execution_count": 12,
   "id": "a3fe5783-146f-470a-9bc5-dbc65f0d43e8",
   "metadata": {},
   "outputs": [],
   "source": [
    "final_data_with_familybf_df= family_breakfast_check(touroperator_ms_departure_df)"
   ]
  },
  {
   "cell_type": "code",
   "execution_count": 13,
   "id": "dba8920e-081f-4a16-8aed-afa2ea1d1801",
   "metadata": {},
   "outputs": [],
   "source": [
    "write_parquet_file(final_data_with_familybf_df, WRITE_LOCATION)"
   ]
  },
  {
   "cell_type": "code",
   "execution_count": 14,
   "id": "d2ba85ee-35e9-4ad7-999b-03769a146886",
   "metadata": {},
   "outputs": [
    {
     "data": {
      "text/plain": [
       "24219"
      ]
     },
     "execution_count": 14,
     "metadata": {},
     "output_type": "execute_result"
    }
   ],
   "source": [
    "final_data_with_familybf_df.count()"
   ]
  },
  {
   "cell_type": "code",
   "execution_count": null,
   "id": "7d33d693-c613-430d-a50c-eba34b36564c",
   "metadata": {},
   "outputs": [],
   "source": []
  }
 ],
 "metadata": {
  "kernelspec": {
   "display_name": "Python 3 (ipykernel)",
   "language": "python",
   "name": "python3"
  },
  "language_info": {
   "codemirror_mode": {
    "name": "ipython",
    "version": 3
   },
   "file_extension": ".py",
   "mimetype": "text/x-python",
   "name": "python",
   "nbconvert_exporter": "python",
   "pygments_lexer": "ipython3",
   "version": "3.11.4"
  }
 },
 "nbformat": 4,
 "nbformat_minor": 5
}

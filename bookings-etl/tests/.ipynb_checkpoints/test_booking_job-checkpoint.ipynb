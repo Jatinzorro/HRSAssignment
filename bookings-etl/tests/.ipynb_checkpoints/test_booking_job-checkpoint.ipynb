{
 "cells": [
  {
   "cell_type": "code",
   "execution_count": 10,
   "id": "da67eefc-eabe-46e1-8e70-fc27b124497a",
   "metadata": {},
   "outputs": [],
   "source": [
    "import findspark\n",
    "findspark.init()"
   ]
  },
  {
   "cell_type": "code",
   "execution_count": 11,
   "id": "a1a97eb6-97f1-475d-bfae-a0170df9abfd",
   "metadata": {},
   "outputs": [],
   "source": [
    "%run ../src/hotel_functions.py"
   ]
  },
  {
   "cell_type": "code",
   "execution_count": 12,
   "id": "9baf712c-5798-40c4-81c4-68110952374d",
   "metadata": {},
   "outputs": [],
   "source": [
    "%run test_data.py"
   ]
  },
  {
   "cell_type": "code",
   "execution_count": 19,
   "id": "2a3ed54a-d0dd-4552-958c-c2c3dc86159a",
   "metadata": {},
   "outputs": [],
   "source": [
    "import pandas"
   ]
  },
  {
   "cell_type": "code",
   "execution_count": 13,
   "id": "b759ec57-9ae1-4459-b85d-65b69754e5de",
   "metadata": {},
   "outputs": [],
   "source": [
    "import unittest\n",
    "from pyspark import SparkContext, SparkConf\n",
    "from pyspark.sql import SparkSession\n",
    "from pyspark.sql import functions as F"
   ]
  },
  {
   "cell_type": "code",
   "execution_count": 14,
   "id": "d49572d2-bb0c-4510-b1c7-be76073b1cf1",
   "metadata": {},
   "outputs": [],
   "source": [
    "import os\n",
    "import sys\n",
    "os.environ['PYSPARK_PYTHON'] = sys.executable\n",
    "os.environ['PYSPARK_DRIVER_PYTHON'] = sys.executable"
   ]
  },
  {
   "cell_type": "code",
   "execution_count": 20,
   "id": "ab0b7941-52c5-495d-8f7d-ca52cb335898",
   "metadata": {},
   "outputs": [],
   "source": [
    "class HotelBookingTestCase(unittest.TestCase):\n",
    "    def __init__(self, *args, **kwargs):\n",
    "        super().__init__(*args, **kwargs)\n",
    "        conf = SparkConf().setAppName('travel_operator_test_booking').setMaster('local')\n",
    "        sc = SparkContext.getOrCreate(conf=conf);\n",
    "        self.spark = SparkSession(sc)\n",
    "        self.spark.sql(\"set spark.sql.legacy.timeParserPolicy=LEGACY\")\n",
    "        \n",
    "    def test_read_csv_file(self):\n",
    "        actual_df = read_csv_file(self.spark,'./test.csv','true')\n",
    "        self.assertListEqual(expected_csv_data, actual_df.toPandas().to_dict(orient='records'))\n",
    "    \n",
    "    def test_calculate_arrival_and_departure_date(self):\n",
    "        test_df = self.spark.createDataFrame(test_arrival_departure_date)\n",
    "        output_arrival_df = arrival_date_calculate(test_df)\n",
    "        self.assertListEqual(expected_arrival_data, output_arrival_df.toPandas().to_dict(orient='records'))\n",
    "\n",
    "        output_departure_df = departure_date_calculate(output_arrival_df)\n",
    "        self.assertListEqual(expected_arrival_departure_data, output_departure_df.toPandas().to_dict(orient='records'))\n",
    "\n",
    "    def test_with_family_breakfast_check(self):\n",
    "        test_df = self.spark.createDataFrame(test_is_with_family_breakfast)\n",
    "        output_df = family_breakfast_check(test_df)\n",
    "        self.assertListEqual(expected_is_with_family_breakfast, output_df.toPandas().to_dict(orient='records'))\n",
    "\n",
    "    def test_write_parquet_file(self):\n",
    "        actual_df = read_csv_file(self.spark,'./test.csv','true')\n",
    "        write_parquet_file(actual_df,'./test_write_output')\n",
    "        actual_written_df = self.spark.read.parquet('./test_write_output')\n",
    "        self.assertListEqual(expected_csv_data, actual_written_df.toPandas().to_dict(orient='records'))\n",
    "\n"
   ]
  },
  {
   "cell_type": "code",
   "execution_count": 21,
   "id": "70b51b04-6f66-4747-8092-a7d5cdc243ff",
   "metadata": {},
   "outputs": [
    {
     "name": "stderr",
     "output_type": "stream",
     "text": [
      "test_calculate_arrival_and_departure_date (__main__.HotelBookingTestCase.test_calculate_arrival_and_departure_date) ... C:\\apps\\spark-3.4.1-bin-hadoop3\\python\\pyspark\\sql\\pandas\\utils.py:37: DeprecationWarning: distutils Version classes are deprecated. Use packaging.version instead.\n",
      "  if LooseVersion(pandas.__version__) < LooseVersion(minimum_pandas_version):\n",
      "C:\\Users\\ts-jatin.a.sharma\\AppData\\Local\\Programs\\Python\\Python311\\Lib\\socket.py:777: ResourceWarning: unclosed <socket.socket fd=2784, family=2, type=1, proto=0, laddr=('127.0.0.1', 60236), raddr=('127.0.0.1', 60235)>\n",
      "  self._sock = None\n",
      "ResourceWarning: Enable tracemalloc to get the object allocation traceback\n",
      "C:\\apps\\spark-3.4.1-bin-hadoop3\\python\\pyspark\\sql\\pandas\\utils.py:37: DeprecationWarning: distutils Version classes are deprecated. Use packaging.version instead.\n",
      "  if LooseVersion(pandas.__version__) < LooseVersion(minimum_pandas_version):\n",
      "C:\\Users\\ts-jatin.a.sharma\\AppData\\Local\\Programs\\Python\\Python311\\Lib\\socket.py:777: ResourceWarning: unclosed <socket.socket fd=2800, family=2, type=1, proto=0, laddr=('127.0.0.1', 60241), raddr=('127.0.0.1', 60240)>\n",
      "  self._sock = None\n",
      "ResourceWarning: Enable tracemalloc to get the object allocation traceback\n",
      "ok\n",
      "test_read_csv_file (__main__.HotelBookingTestCase.test_read_csv_file) ... C:\\apps\\spark-3.4.1-bin-hadoop3\\python\\pyspark\\sql\\pandas\\utils.py:37: DeprecationWarning: distutils Version classes are deprecated. Use packaging.version instead.\n",
      "  if LooseVersion(pandas.__version__) < LooseVersion(minimum_pandas_version):\n",
      "C:\\Users\\ts-jatin.a.sharma\\AppData\\Local\\Programs\\Python\\Python311\\Lib\\socket.py:777: ResourceWarning: unclosed <socket.socket fd=2716, family=2, type=1, proto=0, laddr=('127.0.0.1', 60243), raddr=('127.0.0.1', 60242)>\n",
      "  self._sock = None\n",
      "ResourceWarning: Enable tracemalloc to get the object allocation traceback\n",
      "ok\n",
      "test_with_family_breakfast_check (__main__.HotelBookingTestCase.test_with_family_breakfast_check) ... C:\\apps\\spark-3.4.1-bin-hadoop3\\python\\pyspark\\sql\\pandas\\utils.py:37: DeprecationWarning: distutils Version classes are deprecated. Use packaging.version instead.\n",
      "  if LooseVersion(pandas.__version__) < LooseVersion(minimum_pandas_version):\n",
      "C:\\Users\\ts-jatin.a.sharma\\AppData\\Local\\Programs\\Python\\Python311\\Lib\\socket.py:777: ResourceWarning: unclosed <socket.socket fd=2780, family=2, type=1, proto=0, laddr=('127.0.0.1', 60247), raddr=('127.0.0.1', 60246)>\n",
      "  self._sock = None\n",
      "ResourceWarning: Enable tracemalloc to get the object allocation traceback\n",
      "ok\n",
      "test_write_parquet_file (__main__.HotelBookingTestCase.test_write_parquet_file) ... C:\\apps\\spark-3.4.1-bin-hadoop3\\python\\pyspark\\sql\\pandas\\utils.py:37: DeprecationWarning: distutils Version classes are deprecated. Use packaging.version instead.\n",
      "  if LooseVersion(pandas.__version__) < LooseVersion(minimum_pandas_version):\n",
      "C:\\Users\\ts-jatin.a.sharma\\AppData\\Local\\Programs\\Python\\Python311\\Lib\\socket.py:777: ResourceWarning: unclosed <socket.socket fd=1856, family=2, type=1, proto=0, laddr=('127.0.0.1', 60249), raddr=('127.0.0.1', 60248)>\n",
      "  self._sock = None\n",
      "ResourceWarning: Enable tracemalloc to get the object allocation traceback\n",
      "ok\n",
      "\n",
      "----------------------------------------------------------------------\n",
      "Ran 4 tests in 6.708s\n",
      "\n",
      "OK\n"
     ]
    },
    {
     "data": {
      "text/plain": [
       "<unittest.main.TestProgram at 0x20cf43b8910>"
      ]
     },
     "execution_count": 21,
     "metadata": {},
     "output_type": "execute_result"
    }
   ],
   "source": [
    "unittest.main(argv=[''], verbosity=2, exit=False)"
   ]
  },
  {
   "cell_type": "code",
   "execution_count": null,
   "id": "c9096ce5-8f30-40cb-8d34-e52e4be18478",
   "metadata": {},
   "outputs": [],
   "source": []
  }
 ],
 "metadata": {
  "kernelspec": {
   "display_name": "Python 3 (ipykernel)",
   "language": "python",
   "name": "python3"
  },
  "language_info": {
   "codemirror_mode": {
    "name": "ipython",
    "version": 3
   },
   "file_extension": ".py",
   "mimetype": "text/x-python",
   "name": "python",
   "nbconvert_exporter": "python",
   "pygments_lexer": "ipython3",
   "version": "3.11.4"
  }
 },
 "nbformat": 4,
 "nbformat_minor": 5
}
